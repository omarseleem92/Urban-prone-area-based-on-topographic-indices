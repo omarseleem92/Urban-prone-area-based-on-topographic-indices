{
 "cells": [
  {
   "cell_type": "code",
   "execution_count": 4,
   "metadata": {},
   "outputs": [],
   "source": [
    "import numpy as np\n",
    "import rasterio as rio \n",
    "import matplotlib.pyplot as plt\n",
    "import pandas as pd\n",
    "import math"
   ]
  },
  {
   "cell_type": "markdown",
   "metadata": {},
   "source": [
    "## Microscale calculations"
   ]
  },
  {
   "cell_type": "code",
   "execution_count": 5,
   "metadata": {},
   "outputs": [
    {
     "data": {
      "text/plain": [
       "2"
      ]
     },
     "execution_count": 5,
     "metadata": {},
     "output_type": "execute_result"
    }
   ],
   "source": [
    "# Read raster with two bands \n",
    "# the first band is the water depth (binary 0 and 1), all pixesl with water depth > 1 cm are 1 and others are 0\n",
    "# the second band is the topographic wetness index (TWI) \n",
    "# you can calculate the TWI in python or GIS\n",
    "src= rio.open('composite_TELEMAC_TWI_100.tif')\n",
    "# print number of bands\n",
    "src.count"
   ]
  },
  {
   "cell_type": "code",
   "execution_count": 6,
   "metadata": {},
   "outputs": [],
   "source": [
    "# read bands\n",
    "array = src.read()"
   ]
  },
  {
   "cell_type": "code",
   "execution_count": 7,
   "metadata": {},
   "outputs": [
    {
     "data": {
      "text/html": [
       "<div>\n",
       "<style scoped>\n",
       "    .dataframe tbody tr th:only-of-type {\n",
       "        vertical-align: middle;\n",
       "    }\n",
       "\n",
       "    .dataframe tbody tr th {\n",
       "        vertical-align: top;\n",
       "    }\n",
       "\n",
       "    .dataframe thead th {\n",
       "        text-align: right;\n",
       "    }\n",
       "</style>\n",
       "<table border=\"1\" class=\"dataframe\">\n",
       "  <thead>\n",
       "    <tr style=\"text-align: right;\">\n",
       "      <th></th>\n",
       "      <th>waterdepth</th>\n",
       "      <th>TWI</th>\n",
       "    </tr>\n",
       "  </thead>\n",
       "  <tbody>\n",
       "    <tr>\n",
       "      <th>0</th>\n",
       "      <td>99999.0</td>\n",
       "      <td>99999.0</td>\n",
       "    </tr>\n",
       "    <tr>\n",
       "      <th>1</th>\n",
       "      <td>99999.0</td>\n",
       "      <td>99999.0</td>\n",
       "    </tr>\n",
       "    <tr>\n",
       "      <th>2</th>\n",
       "      <td>99999.0</td>\n",
       "      <td>99999.0</td>\n",
       "    </tr>\n",
       "    <tr>\n",
       "      <th>3</th>\n",
       "      <td>99999.0</td>\n",
       "      <td>99999.0</td>\n",
       "    </tr>\n",
       "    <tr>\n",
       "      <th>4</th>\n",
       "      <td>99999.0</td>\n",
       "      <td>99999.0</td>\n",
       "    </tr>\n",
       "  </tbody>\n",
       "</table>\n",
       "</div>"
      ],
      "text/plain": [
       "   waterdepth      TWI\n",
       "0     99999.0  99999.0\n",
       "1     99999.0  99999.0\n",
       "2     99999.0  99999.0\n",
       "3     99999.0  99999.0\n",
       "4     99999.0  99999.0"
      ]
     },
     "execution_count": 7,
     "metadata": {},
     "output_type": "execute_result"
    }
   ],
   "source": [
    "# convert to a DataFrame\n",
    "import pandas as pd\n",
    "df = pd.DataFrame()\n",
    "df['waterdepth'] = array[0].ravel() \n",
    "df['TWI'] = array[1].ravel() \n",
    "df.head()"
   ]
  },
  {
   "cell_type": "code",
   "execution_count": 8,
   "metadata": {},
   "outputs": [
    {
     "data": {
      "text/html": [
       "<div>\n",
       "<style scoped>\n",
       "    .dataframe tbody tr th:only-of-type {\n",
       "        vertical-align: middle;\n",
       "    }\n",
       "\n",
       "    .dataframe tbody tr th {\n",
       "        vertical-align: top;\n",
       "    }\n",
       "\n",
       "    .dataframe thead th {\n",
       "        text-align: right;\n",
       "    }\n",
       "</style>\n",
       "<table border=\"1\" class=\"dataframe\">\n",
       "  <thead>\n",
       "    <tr style=\"text-align: right;\">\n",
       "      <th></th>\n",
       "      <th>waterdepth</th>\n",
       "      <th>TWI</th>\n",
       "    </tr>\n",
       "  </thead>\n",
       "  <tbody>\n",
       "    <tr>\n",
       "      <th>24739</th>\n",
       "      <td>1.0</td>\n",
       "      <td>3.704139</td>\n",
       "    </tr>\n",
       "    <tr>\n",
       "      <th>24740</th>\n",
       "      <td>1.0</td>\n",
       "      <td>3.503064</td>\n",
       "    </tr>\n",
       "    <tr>\n",
       "      <th>29391</th>\n",
       "      <td>0.0</td>\n",
       "      <td>6.196782</td>\n",
       "    </tr>\n",
       "    <tr>\n",
       "      <th>29392</th>\n",
       "      <td>0.0</td>\n",
       "      <td>3.446129</td>\n",
       "    </tr>\n",
       "    <tr>\n",
       "      <th>29393</th>\n",
       "      <td>0.0</td>\n",
       "      <td>3.476227</td>\n",
       "    </tr>\n",
       "    <tr>\n",
       "      <th>...</th>\n",
       "      <td>...</td>\n",
       "      <td>...</td>\n",
       "    </tr>\n",
       "    <tr>\n",
       "      <th>12538377</th>\n",
       "      <td>1.0</td>\n",
       "      <td>6.847323</td>\n",
       "    </tr>\n",
       "    <tr>\n",
       "      <th>12538378</th>\n",
       "      <td>1.0</td>\n",
       "      <td>3.274583</td>\n",
       "    </tr>\n",
       "    <tr>\n",
       "      <th>12538379</th>\n",
       "      <td>1.0</td>\n",
       "      <td>6.912879</td>\n",
       "    </tr>\n",
       "    <tr>\n",
       "      <th>12538380</th>\n",
       "      <td>1.0</td>\n",
       "      <td>4.083636</td>\n",
       "    </tr>\n",
       "    <tr>\n",
       "      <th>12543032</th>\n",
       "      <td>1.0</td>\n",
       "      <td>8.419317</td>\n",
       "    </tr>\n",
       "  </tbody>\n",
       "</table>\n",
       "<p>6253454 rows × 2 columns</p>\n",
       "</div>"
      ],
      "text/plain": [
       "          waterdepth       TWI\n",
       "24739            1.0  3.704139\n",
       "24740            1.0  3.503064\n",
       "29391            0.0  6.196782\n",
       "29392            0.0  3.446129\n",
       "29393            0.0  3.476227\n",
       "...              ...       ...\n",
       "12538377         1.0  6.847323\n",
       "12538378         1.0  3.274583\n",
       "12538379         1.0  6.912879\n",
       "12538380         1.0  4.083636\n",
       "12543032         1.0  8.419317\n",
       "\n",
       "[6253454 rows x 2 columns]"
      ]
     },
     "execution_count": 8,
     "metadata": {},
     "output_type": "execute_result"
    }
   ],
   "source": [
    "# remove pixels with no value (no value pixels has value = 99999 )\n",
    "df=df[df.waterdepth <99999]\n",
    "df=df[df.TWI < 99999] \n",
    "df"
   ]
  },
  {
   "cell_type": "code",
   "execution_count": 9,
   "metadata": {},
   "outputs": [
    {
     "data": {
      "text/html": [
       "<div>\n",
       "<style scoped>\n",
       "    .dataframe tbody tr th:only-of-type {\n",
       "        vertical-align: middle;\n",
       "    }\n",
       "\n",
       "    .dataframe tbody tr th {\n",
       "        vertical-align: top;\n",
       "    }\n",
       "\n",
       "    .dataframe thead th {\n",
       "        text-align: right;\n",
       "    }\n",
       "</style>\n",
       "<table border=\"1\" class=\"dataframe\">\n",
       "  <thead>\n",
       "    <tr style=\"text-align: right;\">\n",
       "      <th></th>\n",
       "      <th>waterdepth</th>\n",
       "      <th>TWI</th>\n",
       "    </tr>\n",
       "  </thead>\n",
       "  <tbody>\n",
       "    <tr>\n",
       "      <th>count</th>\n",
       "      <td>6.253454e+06</td>\n",
       "      <td>6.253454e+06</td>\n",
       "    </tr>\n",
       "    <tr>\n",
       "      <th>mean</th>\n",
       "      <td>5.168427e-01</td>\n",
       "      <td>5.284087e+00</td>\n",
       "    </tr>\n",
       "    <tr>\n",
       "      <th>std</th>\n",
       "      <td>4.997163e-01</td>\n",
       "      <td>2.579302e+00</td>\n",
       "    </tr>\n",
       "    <tr>\n",
       "      <th>min</th>\n",
       "      <td>0.000000e+00</td>\n",
       "      <td>-1.477638e+00</td>\n",
       "    </tr>\n",
       "    <tr>\n",
       "      <th>25%</th>\n",
       "      <td>0.000000e+00</td>\n",
       "      <td>3.381277e+00</td>\n",
       "    </tr>\n",
       "    <tr>\n",
       "      <th>50%</th>\n",
       "      <td>1.000000e+00</td>\n",
       "      <td>4.534213e+00</td>\n",
       "    </tr>\n",
       "    <tr>\n",
       "      <th>75%</th>\n",
       "      <td>1.000000e+00</td>\n",
       "      <td>6.825071e+00</td>\n",
       "    </tr>\n",
       "    <tr>\n",
       "      <th>max</th>\n",
       "      <td>1.000000e+00</td>\n",
       "      <td>2.891914e+01</td>\n",
       "    </tr>\n",
       "  </tbody>\n",
       "</table>\n",
       "</div>"
      ],
      "text/plain": [
       "         waterdepth           TWI\n",
       "count  6.253454e+06  6.253454e+06\n",
       "mean   5.168427e-01  5.284087e+00\n",
       "std    4.997163e-01  2.579302e+00\n",
       "min    0.000000e+00 -1.477638e+00\n",
       "25%    0.000000e+00  3.381277e+00\n",
       "50%    1.000000e+00  4.534213e+00\n",
       "75%    1.000000e+00  6.825071e+00\n",
       "max    1.000000e+00  2.891914e+01"
      ]
     },
     "execution_count": 9,
     "metadata": {},
     "output_type": "execute_result"
    }
   ],
   "source": [
    "# print the statistics of the two variables (water depth and TWI)\n",
    "df.describe()"
   ]
  },
  {
   "cell_type": "code",
   "execution_count": 11,
   "metadata": {},
   "outputs": [
    {
     "data": {
      "text/plain": [
       "-14"
      ]
     },
     "execution_count": 11,
     "metadata": {},
     "output_type": "execute_result"
    }
   ],
   "source": [
    "# we will loop over all the TWI values\n",
    "# we need to get the closest integer to the TWI and mulipy it by 10 to use in the for loop\n",
    "# we get the original values back by dividing it by 10 inside the loop \n",
    "min_TWI=math.ceil(np.min(df['TWI'])*10)\n",
    "min_TWI"
   ]
  },
  {
   "cell_type": "code",
   "execution_count": 12,
   "metadata": {},
   "outputs": [
    {
     "data": {
      "text/plain": [
       "289"
      ]
     },
     "execution_count": 12,
     "metadata": {},
     "output_type": "execute_result"
    }
   ],
   "source": [
    "max_TWI=math.floor(np.max(df['TWI'])*10)\n",
    "max_TWI"
   ]
  },
  {
   "cell_type": "code",
   "execution_count": 54,
   "metadata": {},
   "outputs": [],
   "source": [
    "# Estimate the TWI thresholds and the corresponding values\n",
    "\n",
    "TWI_list=[] # TWI thresholds\n",
    "#cross_table=[]\n",
    "NotFlooded=[] # not flooded based on water depth and TWI threshold obtained from the contingency table\n",
    "Flooded=[] #  flooded based on water depth and TWI threshold obtained from the contingency table\n",
    "for i in range(min_TWI,max_TWI):\n",
    "    TWI_threshold=i/10\n",
    "    df['TWI_threshold'] = np.where(df['TWI']> TWI_threshold, 1, 0)\n",
    "    x=pd.crosstab(df.waterdepth,df.TWI_threshold)\n",
    "    #cross_table.append([('TWI_'+str(TWI_threshold)),x])\n",
    "    TWI_list.append(TWI_threshold)\n",
    "    NotFlooded.append(x.iloc[0,0])\n",
    "    Flooded.append(x.iloc[1,1])\n",
    "        #print(x)\n",
    "    #print(x.iloc[0,0])\n",
    "    #print(x.iloc[1,1])\n",
    "    "
   ]
  },
  {
   "cell_type": "code",
   "execution_count": 55,
   "metadata": {},
   "outputs": [
    {
     "data": {
      "text/plain": [
       "1"
      ]
     },
     "execution_count": 55,
     "metadata": {},
     "output_type": "execute_result"
    }
   ],
   "source": [
    "# Microscale\n",
    "src= rio.open('TWI_micro.tif')\n",
    "# number of bands\n",
    "src.count"
   ]
  },
  {
   "cell_type": "code",
   "execution_count": 56,
   "metadata": {},
   "outputs": [
    {
     "data": {
      "text/plain": [
       "99999.0"
      ]
     },
     "execution_count": 56,
     "metadata": {},
     "output_type": "execute_result"
    }
   ],
   "source": [
    "# read bands\n",
    "array = src.read()\n",
    "array.max()\n",
    "\n"
   ]
  },
  {
   "cell_type": "code",
   "execution_count": 57,
   "metadata": {},
   "outputs": [
    {
     "data": {
      "text/plain": [
       "nan"
      ]
     },
     "execution_count": 57,
     "metadata": {},
     "output_type": "execute_result"
    }
   ],
   "source": [
    "# replace no value data (99999) with nan\n",
    "array[array==99999]=np.nan\n",
    "array.max()"
   ]
  },
  {
   "cell_type": "code",
   "execution_count": 58,
   "metadata": {},
   "outputs": [],
   "source": [
    "# calculate the area above a given thresold \n",
    "TWI_threshold_Area_micro=[]\n",
    "for i in range(min_TWI,max_TWI):\n",
    "    j=i/10\n",
    "    TWI_area=(array > j).sum()\n",
    "    TWI_threshold_Area_micro.append(TWI_area)\n",
    "    #print(TWI_area)\n",
    "    #break"
   ]
  },
  {
   "cell_type": "markdown",
   "metadata": {},
   "source": [
    "## Mesoscale calculation"
   ]
  },
  {
   "cell_type": "code",
   "execution_count": 18,
   "metadata": {},
   "outputs": [
    {
     "data": {
      "text/plain": [
       "1"
      ]
     },
     "execution_count": 18,
     "metadata": {},
     "output_type": "execute_result"
    }
   ],
   "source": [
    "src= rio.open('TWI_mesoscale.tif')\n",
    "# number of bands\n",
    "src.count"
   ]
  },
  {
   "cell_type": "code",
   "execution_count": 19,
   "metadata": {},
   "outputs": [
    {
     "data": {
      "text/plain": [
       "nan"
      ]
     },
     "execution_count": 19,
     "metadata": {},
     "output_type": "execute_result"
    }
   ],
   "source": [
    "# read bands\n",
    "mesoscale_array = src.read()\n",
    "mesoscale_array[mesoscale_array==99999]=np.nan\n",
    "mesoscale_array.max()"
   ]
  },
  {
   "cell_type": "code",
   "execution_count": 20,
   "metadata": {},
   "outputs": [],
   "source": [
    "TWI_threshold_Area_meso=[]\n",
    "for i in range(min_TWI,max_TWI):\n",
    "    j=i/10\n",
    "    TWI_area=(mesoscale_array > j).sum()\n",
    "    TWI_threshold_Area_meso.append(TWI_area)\n",
    "    #print(TWI_area)"
   ]
  },
  {
   "cell_type": "code",
   "execution_count": 59,
   "metadata": {},
   "outputs": [
    {
     "data": {
      "text/html": [
       "<div>\n",
       "<style scoped>\n",
       "    .dataframe tbody tr th:only-of-type {\n",
       "        vertical-align: middle;\n",
       "    }\n",
       "\n",
       "    .dataframe tbody tr th {\n",
       "        vertical-align: top;\n",
       "    }\n",
       "\n",
       "    .dataframe thead th {\n",
       "        text-align: right;\n",
       "    }\n",
       "</style>\n",
       "<table border=\"1\" class=\"dataframe\">\n",
       "  <thead>\n",
       "    <tr style=\"text-align: right;\">\n",
       "      <th></th>\n",
       "      <th>TWI_threshold</th>\n",
       "      <th>TWI_threshold_Floodedarea_micro</th>\n",
       "      <th>P(FP)| tau_micro</th>\n",
       "      <th>Both_Flooded_micro</th>\n",
       "      <th>P(IN|FP,tau)</th>\n",
       "      <th>P(FP')| tau_micro</th>\n",
       "      <th>TWI_threshold_NotFloodedarea_micro</th>\n",
       "      <th>Both_NotFlooded_micro</th>\n",
       "      <th>P(IN'|FP',tau)</th>\n",
       "      <th>TWI_threshold_Floodedarea_meso</th>\n",
       "      <th>P(FP)| tau_meso</th>\n",
       "      <th>P(FP')| tau_meso</th>\n",
       "      <th>P(FP,IN | tau)</th>\n",
       "      <th>P(FP',IN' | tau)</th>\n",
       "      <th>likelihood</th>\n",
       "    </tr>\n",
       "  </thead>\n",
       "  <tbody>\n",
       "    <tr>\n",
       "      <th>0</th>\n",
       "      <td>-1.4</td>\n",
       "      <td>6304509</td>\n",
       "      <td>1.000000e+00</td>\n",
       "      <td>3232049</td>\n",
       "      <td>0.512657</td>\n",
       "      <td>0.000000</td>\n",
       "      <td>0</td>\n",
       "      <td>11</td>\n",
       "      <td>inf</td>\n",
       "      <td>1132158189</td>\n",
       "      <td>1.000000e+00</td>\n",
       "      <td>0.000000</td>\n",
       "      <td>5.126567e-01</td>\n",
       "      <td>NaN</td>\n",
       "      <td>NaN</td>\n",
       "    </tr>\n",
       "    <tr>\n",
       "      <th>1</th>\n",
       "      <td>-1.3</td>\n",
       "      <td>6304497</td>\n",
       "      <td>9.999981e-01</td>\n",
       "      <td>3232046</td>\n",
       "      <td>0.512657</td>\n",
       "      <td>0.000002</td>\n",
       "      <td>12</td>\n",
       "      <td>19</td>\n",
       "      <td>1.583333</td>\n",
       "      <td>1132153888</td>\n",
       "      <td>9.999962e-01</td>\n",
       "      <td>0.000004</td>\n",
       "      <td>5.126553e-01</td>\n",
       "      <td>0.000006</td>\n",
       "      <td>0.512661</td>\n",
       "    </tr>\n",
       "    <tr>\n",
       "      <th>2</th>\n",
       "      <td>-1.2</td>\n",
       "      <td>6304455</td>\n",
       "      <td>9.999914e-01</td>\n",
       "      <td>3232032</td>\n",
       "      <td>0.512658</td>\n",
       "      <td>0.000009</td>\n",
       "      <td>54</td>\n",
       "      <td>42</td>\n",
       "      <td>0.777778</td>\n",
       "      <td>1132148940</td>\n",
       "      <td>9.999918e-01</td>\n",
       "      <td>0.000008</td>\n",
       "      <td>5.126542e-01</td>\n",
       "      <td>0.000006</td>\n",
       "      <td>0.512661</td>\n",
       "    </tr>\n",
       "    <tr>\n",
       "      <th>3</th>\n",
       "      <td>-1.1</td>\n",
       "      <td>6304416</td>\n",
       "      <td>9.999852e-01</td>\n",
       "      <td>3232020</td>\n",
       "      <td>0.512660</td>\n",
       "      <td>0.000015</td>\n",
       "      <td>93</td>\n",
       "      <td>69</td>\n",
       "      <td>0.741935</td>\n",
       "      <td>1132142816</td>\n",
       "      <td>9.999864e-01</td>\n",
       "      <td>0.000014</td>\n",
       "      <td>5.126527e-01</td>\n",
       "      <td>0.000010</td>\n",
       "      <td>0.512663</td>\n",
       "    </tr>\n",
       "    <tr>\n",
       "      <th>4</th>\n",
       "      <td>-1.0</td>\n",
       "      <td>6304370</td>\n",
       "      <td>9.999780e-01</td>\n",
       "      <td>3232001</td>\n",
       "      <td>0.512660</td>\n",
       "      <td>0.000022</td>\n",
       "      <td>139</td>\n",
       "      <td>94</td>\n",
       "      <td>0.676259</td>\n",
       "      <td>1132136618</td>\n",
       "      <td>9.999809e-01</td>\n",
       "      <td>0.000019</td>\n",
       "      <td>5.126507e-01</td>\n",
       "      <td>0.000013</td>\n",
       "      <td>0.512664</td>\n",
       "    </tr>\n",
       "    <tr>\n",
       "      <th>...</th>\n",
       "      <td>...</td>\n",
       "      <td>...</td>\n",
       "      <td>...</td>\n",
       "      <td>...</td>\n",
       "      <td>...</td>\n",
       "      <td>...</td>\n",
       "      <td>...</td>\n",
       "      <td>...</td>\n",
       "      <td>...</td>\n",
       "      <td>...</td>\n",
       "      <td>...</td>\n",
       "      <td>...</td>\n",
       "      <td>...</td>\n",
       "      <td>...</td>\n",
       "      <td>...</td>\n",
       "    </tr>\n",
       "    <tr>\n",
       "      <th>298</th>\n",
       "      <td>28.4</td>\n",
       "      <td>2</td>\n",
       "      <td>3.172333e-07</td>\n",
       "      <td>2</td>\n",
       "      <td>1.000000</td>\n",
       "      <td>1.000000</td>\n",
       "      <td>6304507</td>\n",
       "      <td>3021402</td>\n",
       "      <td>0.479245</td>\n",
       "      <td>109</td>\n",
       "      <td>9.627630e-08</td>\n",
       "      <td>1.000000</td>\n",
       "      <td>9.627630e-08</td>\n",
       "      <td>0.479245</td>\n",
       "      <td>0.479245</td>\n",
       "    </tr>\n",
       "    <tr>\n",
       "      <th>299</th>\n",
       "      <td>28.5</td>\n",
       "      <td>2</td>\n",
       "      <td>3.172333e-07</td>\n",
       "      <td>2</td>\n",
       "      <td>1.000000</td>\n",
       "      <td>1.000000</td>\n",
       "      <td>6304507</td>\n",
       "      <td>3021402</td>\n",
       "      <td>0.479245</td>\n",
       "      <td>100</td>\n",
       "      <td>8.832688e-08</td>\n",
       "      <td>1.000000</td>\n",
       "      <td>8.832688e-08</td>\n",
       "      <td>0.479245</td>\n",
       "      <td>0.479245</td>\n",
       "    </tr>\n",
       "    <tr>\n",
       "      <th>300</th>\n",
       "      <td>28.6</td>\n",
       "      <td>2</td>\n",
       "      <td>3.172333e-07</td>\n",
       "      <td>2</td>\n",
       "      <td>1.000000</td>\n",
       "      <td>1.000000</td>\n",
       "      <td>6304507</td>\n",
       "      <td>3021402</td>\n",
       "      <td>0.479245</td>\n",
       "      <td>91</td>\n",
       "      <td>8.037746e-08</td>\n",
       "      <td>1.000000</td>\n",
       "      <td>8.037746e-08</td>\n",
       "      <td>0.479245</td>\n",
       "      <td>0.479245</td>\n",
       "    </tr>\n",
       "    <tr>\n",
       "      <th>301</th>\n",
       "      <td>28.7</td>\n",
       "      <td>1</td>\n",
       "      <td>1.586166e-07</td>\n",
       "      <td>1</td>\n",
       "      <td>1.000000</td>\n",
       "      <td>1.000000</td>\n",
       "      <td>6304508</td>\n",
       "      <td>3021402</td>\n",
       "      <td>0.479245</td>\n",
       "      <td>82</td>\n",
       "      <td>7.242804e-08</td>\n",
       "      <td>1.000000</td>\n",
       "      <td>7.242804e-08</td>\n",
       "      <td>0.479245</td>\n",
       "      <td>0.479245</td>\n",
       "    </tr>\n",
       "    <tr>\n",
       "      <th>302</th>\n",
       "      <td>28.8</td>\n",
       "      <td>1</td>\n",
       "      <td>1.586166e-07</td>\n",
       "      <td>1</td>\n",
       "      <td>1.000000</td>\n",
       "      <td>1.000000</td>\n",
       "      <td>6304508</td>\n",
       "      <td>3021402</td>\n",
       "      <td>0.479245</td>\n",
       "      <td>74</td>\n",
       "      <td>6.536189e-08</td>\n",
       "      <td>1.000000</td>\n",
       "      <td>6.536189e-08</td>\n",
       "      <td>0.479245</td>\n",
       "      <td>0.479245</td>\n",
       "    </tr>\n",
       "  </tbody>\n",
       "</table>\n",
       "<p>303 rows × 15 columns</p>\n",
       "</div>"
      ],
      "text/plain": [
       "     TWI_threshold  TWI_threshold_Floodedarea_micro  P(FP)| tau_micro  \\\n",
       "0             -1.4                          6304509      1.000000e+00   \n",
       "1             -1.3                          6304497      9.999981e-01   \n",
       "2             -1.2                          6304455      9.999914e-01   \n",
       "3             -1.1                          6304416      9.999852e-01   \n",
       "4             -1.0                          6304370      9.999780e-01   \n",
       "..             ...                              ...               ...   \n",
       "298           28.4                                2      3.172333e-07   \n",
       "299           28.5                                2      3.172333e-07   \n",
       "300           28.6                                2      3.172333e-07   \n",
       "301           28.7                                1      1.586166e-07   \n",
       "302           28.8                                1      1.586166e-07   \n",
       "\n",
       "     Both_Flooded_micro  P(IN|FP,tau)  P(FP')| tau_micro  \\\n",
       "0               3232049      0.512657           0.000000   \n",
       "1               3232046      0.512657           0.000002   \n",
       "2               3232032      0.512658           0.000009   \n",
       "3               3232020      0.512660           0.000015   \n",
       "4               3232001      0.512660           0.000022   \n",
       "..                  ...           ...                ...   \n",
       "298                   2      1.000000           1.000000   \n",
       "299                   2      1.000000           1.000000   \n",
       "300                   2      1.000000           1.000000   \n",
       "301                   1      1.000000           1.000000   \n",
       "302                   1      1.000000           1.000000   \n",
       "\n",
       "     TWI_threshold_NotFloodedarea_micro  Both_NotFlooded_micro  \\\n",
       "0                                     0                     11   \n",
       "1                                    12                     19   \n",
       "2                                    54                     42   \n",
       "3                                    93                     69   \n",
       "4                                   139                     94   \n",
       "..                                  ...                    ...   \n",
       "298                             6304507                3021402   \n",
       "299                             6304507                3021402   \n",
       "300                             6304507                3021402   \n",
       "301                             6304508                3021402   \n",
       "302                             6304508                3021402   \n",
       "\n",
       "     P(IN'|FP',tau)  TWI_threshold_Floodedarea_meso  P(FP)| tau_meso  \\\n",
       "0               inf                      1132158189     1.000000e+00   \n",
       "1          1.583333                      1132153888     9.999962e-01   \n",
       "2          0.777778                      1132148940     9.999918e-01   \n",
       "3          0.741935                      1132142816     9.999864e-01   \n",
       "4          0.676259                      1132136618     9.999809e-01   \n",
       "..              ...                             ...              ...   \n",
       "298        0.479245                             109     9.627630e-08   \n",
       "299        0.479245                             100     8.832688e-08   \n",
       "300        0.479245                              91     8.037746e-08   \n",
       "301        0.479245                              82     7.242804e-08   \n",
       "302        0.479245                              74     6.536189e-08   \n",
       "\n",
       "     P(FP')| tau_meso  P(FP,IN | tau)  P(FP',IN' | tau)  likelihood  \n",
       "0            0.000000    5.126567e-01               NaN         NaN  \n",
       "1            0.000004    5.126553e-01          0.000006    0.512661  \n",
       "2            0.000008    5.126542e-01          0.000006    0.512661  \n",
       "3            0.000014    5.126527e-01          0.000010    0.512663  \n",
       "4            0.000019    5.126507e-01          0.000013    0.512664  \n",
       "..                ...             ...               ...         ...  \n",
       "298          1.000000    9.627630e-08          0.479245    0.479245  \n",
       "299          1.000000    8.832688e-08          0.479245    0.479245  \n",
       "300          1.000000    8.037746e-08          0.479245    0.479245  \n",
       "301          1.000000    7.242804e-08          0.479245    0.479245  \n",
       "302          1.000000    6.536189e-08          0.479245    0.479245  \n",
       "\n",
       "[303 rows x 15 columns]"
      ]
     },
     "execution_count": 59,
     "metadata": {},
     "output_type": "execute_result"
    }
   ],
   "source": [
    "# here we used the calculated values to calculate the three main equations in the paper to estimate the TWI threshold corresponding to the maximum likelihood\n",
    "\n",
    "summary=pd.DataFrame()\n",
    "summary['TWI_threshold']= TWI_list # TWI threshold value\n",
    "\n",
    "#  the probability that a certain pixel within the spatial window W is identified as IN on the condition that it is FP\n",
    "# and  P(IN|FP, τ, W) indicates the probability that a certain pixel within the spatial window W is identified as IN on the condition that it is FP, for a given value of τ.\n",
    "summary['TWI_threshold_Floodedarea_micro']=TWI_threshold_Area_micro\n",
    "summary['P(FP)| tau_micro']= summary.TWI_threshold_Floodedarea_micro/summary['TWI_threshold_Floodedarea_micro'][0]\n",
    "summary['Both_Flooded_micro'] = Flooded\n",
    "summary[\"P(IN|FP,tau)\"]=summary[\"Both_Flooded_micro\"]/summary[\"TWI_threshold_Floodedarea_micro\"] #2\n",
    "\n",
    "summary[\"P(FP')| tau_micro\"]= 1-summary['P(FP)| tau_micro']\n",
    "summary['TWI_threshold_NotFloodedarea_micro']=summary['TWI_threshold_Floodedarea_micro'][0]-summary[\"TWI_threshold_Floodedarea_micro\"]\n",
    "summary['Both_NotFlooded_micro'] = NotFlooded\n",
    "summary[\"P(IN'|FP',tau)\"]=summary[\"Both_NotFlooded_micro\"]/summary[\"TWI_threshold_NotFloodedarea_micro\"] #2'\n",
    "\n",
    "\n",
    "\n",
    "#the probability that a certain pixel within the spatial window W is FP and FP, respectively, conditioned on a given value of τ.\n",
    "\n",
    "summary['TWI_threshold_Floodedarea_meso']=TWI_threshold_Area_meso\n",
    "summary['P(FP)| tau_meso']= summary.TWI_threshold_Floodedarea_meso/summary['TWI_threshold_Floodedarea_meso'][0] #1\n",
    "summary[\"P(FP')| tau_meso\" ]= 1-summary['P(FP)| tau_meso'] #1'\n",
    "\n",
    "#  the probability that a certain pixel within a spatial window\n",
    "# W is identified both as inundated IN (based on the calculated inundation maps from\n",
    "# TELEMAC-2D model) and FP (based on the TWI method), and conditioned on a given\n",
    "# value of τ. Furthermore, P(FP, IN|τ, W) indicates the probability that a certain pixel within\n",
    "# the spatial window W is neither identified as IN nor as FP conditioned on a given τ.\n",
    "\n",
    "summary['P(FP,IN | tau)']=summary['P(FP)| tau_meso']*summary[\"P(IN|FP,tau)\"] #3\n",
    "summary[\"P(FP',IN' | tau)\"]=summary[\"P(FP')| tau_meso\"]*summary[\"P(IN'|FP',tau)\"]    #3'\n",
    "\n",
    "# maximum likelihood function\n",
    "summary['likelihood']=summary['P(FP,IN | tau)']+summary[\"P(FP',IN' | tau)\"]\n",
    "summary\n"
   ]
  },
  {
   "cell_type": "markdown",
   "metadata": {},
   "source": [
    "## Estimate the maximum liklihood value and the 95 confidence interveal"
   ]
  },
  {
   "cell_type": "code",
   "execution_count": 60,
   "metadata": {},
   "outputs": [
    {
     "data": {
      "text/html": [
       "<div>\n",
       "<style scoped>\n",
       "    .dataframe tbody tr th:only-of-type {\n",
       "        vertical-align: middle;\n",
       "    }\n",
       "\n",
       "    .dataframe tbody tr th {\n",
       "        vertical-align: top;\n",
       "    }\n",
       "\n",
       "    .dataframe thead th {\n",
       "        text-align: right;\n",
       "    }\n",
       "</style>\n",
       "<table border=\"1\" class=\"dataframe\">\n",
       "  <thead>\n",
       "    <tr style=\"text-align: right;\">\n",
       "      <th></th>\n",
       "      <th>τ</th>\n",
       "      <th>L(τ│W)</th>\n",
       "    </tr>\n",
       "  </thead>\n",
       "  <tbody>\n",
       "    <tr>\n",
       "      <th>0</th>\n",
       "      <td>-1.4</td>\n",
       "      <td>NaN</td>\n",
       "    </tr>\n",
       "    <tr>\n",
       "      <th>1</th>\n",
       "      <td>-1.3</td>\n",
       "      <td>0.512661</td>\n",
       "    </tr>\n",
       "    <tr>\n",
       "      <th>2</th>\n",
       "      <td>-1.2</td>\n",
       "      <td>0.512661</td>\n",
       "    </tr>\n",
       "    <tr>\n",
       "      <th>3</th>\n",
       "      <td>-1.1</td>\n",
       "      <td>0.512663</td>\n",
       "    </tr>\n",
       "    <tr>\n",
       "      <th>4</th>\n",
       "      <td>-1.0</td>\n",
       "      <td>0.512664</td>\n",
       "    </tr>\n",
       "    <tr>\n",
       "      <th>...</th>\n",
       "      <td>...</td>\n",
       "      <td>...</td>\n",
       "    </tr>\n",
       "    <tr>\n",
       "      <th>298</th>\n",
       "      <td>28.4</td>\n",
       "      <td>0.479245</td>\n",
       "    </tr>\n",
       "    <tr>\n",
       "      <th>299</th>\n",
       "      <td>28.5</td>\n",
       "      <td>0.479245</td>\n",
       "    </tr>\n",
       "    <tr>\n",
       "      <th>300</th>\n",
       "      <td>28.6</td>\n",
       "      <td>0.479245</td>\n",
       "    </tr>\n",
       "    <tr>\n",
       "      <th>301</th>\n",
       "      <td>28.7</td>\n",
       "      <td>0.479245</td>\n",
       "    </tr>\n",
       "    <tr>\n",
       "      <th>302</th>\n",
       "      <td>28.8</td>\n",
       "      <td>0.479245</td>\n",
       "    </tr>\n",
       "  </tbody>\n",
       "</table>\n",
       "<p>303 rows × 2 columns</p>\n",
       "</div>"
      ],
      "text/plain": [
       "        τ    L(τ│W)\n",
       "0    -1.4       NaN\n",
       "1    -1.3  0.512661\n",
       "2    -1.2  0.512661\n",
       "3    -1.1  0.512663\n",
       "4    -1.0  0.512664\n",
       "..    ...       ...\n",
       "298  28.4  0.479245\n",
       "299  28.5  0.479245\n",
       "300  28.6  0.479245\n",
       "301  28.7  0.479245\n",
       "302  28.8  0.479245\n",
       "\n",
       "[303 rows x 2 columns]"
      ]
     },
     "execution_count": 60,
     "metadata": {},
     "output_type": "execute_result"
    }
   ],
   "source": [
    "# let us make a new dataframe which includes only the data that we need\n",
    "df2=pd.DataFrame()\n",
    "df2['τ']=summary['TWI_threshold'] # TWI threshold\n",
    "df2['L(τ│W)']=summary['likelihood'] # Maximum likelihood coressponding to each TWI theshold value\n",
    "df2"
   ]
  },
  {
   "cell_type": "code",
   "execution_count": 61,
   "metadata": {},
   "outputs": [
    {
     "data": {
      "text/plain": [
       "0.6270739909499667"
      ]
     },
     "execution_count": 61,
     "metadata": {},
     "output_type": "execute_result"
    }
   ],
   "source": [
    "df2['L(τ│W)'].max() # maximum likelihood value"
   ]
  },
  {
   "cell_type": "code",
   "execution_count": 62,
   "metadata": {},
   "outputs": [
    {
     "data": {
      "text/plain": [
       "67    5.3\n",
       "Name: τ, dtype: float64"
      ]
     },
     "execution_count": 62,
     "metadata": {},
     "output_type": "execute_result"
    }
   ],
   "source": [
    "# TWI threshold corresponding to the maximum likelihood value\n",
    "df2.loc[df2['L(τ│W)'] == df2['L(τ│W)'].max(),'τ']"
   ]
  },
  {
   "cell_type": "code",
   "execution_count": 63,
   "metadata": {},
   "outputs": [
    {
     "data": {
      "text/plain": [
       "0.6207050720504971"
      ]
     },
     "execution_count": 63,
     "metadata": {},
     "output_type": "execute_result"
    }
   ],
   "source": [
    "# 95 quantile interval\n",
    "df2['L(τ│W)'].quantile(0.95)\n"
   ]
  },
  {
   "cell_type": "code",
   "execution_count": 64,
   "metadata": {},
   "outputs": [
    {
     "data": {
      "text/plain": [
       "62    4.8\n",
       "63    4.9\n",
       "64    5.0\n",
       "65    5.1\n",
       "66    5.2\n",
       "67    5.3\n",
       "68    5.4\n",
       "69    5.5\n",
       "70    5.6\n",
       "71    5.7\n",
       "72    5.8\n",
       "73    5.9\n",
       "74    6.0\n",
       "75    6.1\n",
       "76    6.2\n",
       "77    6.3\n",
       "Name: τ, dtype: float64"
      ]
     },
     "execution_count": 64,
     "metadata": {},
     "output_type": "execute_result"
    }
   ],
   "source": [
    "df2.loc[df2['L(τ│W)'] >= df2['L(τ│W)'].quantile(0.95),'τ']\n"
   ]
  },
  {
   "cell_type": "code",
   "execution_count": 65,
   "metadata": {},
   "outputs": [
    {
     "data": {
      "image/png": "[encoded data removed]",
      "text/plain": [
       "<Figure size 432x288 with 1 Axes>"
      ]
     },
     "metadata": {
      "needs_background": "light"
     },
     "output_type": "display_data"
    }
   ],
   "source": [
    "ax=df2.plot(kind='line', x='τ',y='L(τ│W)', color='k',zorder=10,fontsize=12)\n",
    "size=12\n",
    "plt.xlim(-1, 15)\n",
    "plt.ylim(0.4, 0.8)\n",
    "plt.xlabel('TWI Threshold,τ',fontsize=12)\n",
    "plt.ylabel('L(τ│W)',fontsize=12)\n",
    "plt.axvline(x=4.8, ymin=0, ymax=0.555, color='k', linestyle='--',zorder=5)\n",
    "plt.axvline(x=6.4, ymin=0, ymax=0.555, color='k', linestyle='--',zorder=5)\n",
    "threshold=0.72\n",
    "plt.grid(linestyle='--')\n",
    "ax.set_axisbelow(True)\n",
    "\n",
    "\n",
    "plt.annotate('4.8',\n",
    "            xy=(4.6, 0.401), xycoords='data',\n",
    "            xytext=(-20, 5), textcoords='offset points',fontsize=size)\n",
    "plt.annotate('6.4',\n",
    "            xy=(7.5, 0.401), xycoords='data',\n",
    "            xytext=(-20, 5), textcoords='offset points',fontsize=size)\n",
    "'''plt.annotate('Maximum Likelihood Interval',\n",
    "             xy=(4, 0.88), xycoords='data',\n",
    "             xytext=(0, -20), textcoords='offset points')'''\n",
    "plt.annotate('Maximum Likelihood Interval', xy=(5.5, 0.63),  xycoords='data',\n",
    "            xytext=(9.65, 0.7), textcoords='data',\n",
    "            arrowprops=dict(facecolor='black', shrink=0.05,width=1.5,headwidth=10),\n",
    "            horizontalalignment='right', verticalalignment='top',fontsize=size\n",
    "            )\n",
    "ax.get_legend().remove()\n",
    "\n",
    "#plt.fill_betweenx(y=df2['L(τ│W)'],x1=4.8,x2=6.4,where=df2['L(τ│W)']<0.63,color='silver',zorder=0)\n",
    "plt.savefig('Maximum_Likelihood.pdf')"
   ]
  },
  {
   "cell_type": "code",
   "execution_count": null,
   "metadata": {},
   "outputs": [],
   "source": []
  }
 ],
 "metadata": {
  "kernelspec": {
   "display_name": "Python 3",
   "language": "python",
   "name": "python3"
  },
  "language_info": {
   "codemirror_mode": {
    "name": "ipython",
    "version": 3
   },
   "file_extension": ".py",
   "mimetype": "text/x-python",
   "name": "python",
   "nbconvert_exporter": "python",
   "pygments_lexer": "ipython3",
   "version": "3.7.9"
  }
 },
 "nbformat": 4,
 "nbformat_minor": 5
}
